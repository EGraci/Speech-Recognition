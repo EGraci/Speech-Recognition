{
  "nbformat": 4,
  "nbformat_minor": 0,
  "metadata": {
    "colab": {
      "provenance": []
    },
    "kernelspec": {
      "name": "python3",
      "display_name": "Python 3"
    },
    "language_info": {
      "name": "python"
    }
  },
  "cells": [
    {
      "cell_type": "markdown",
      "metadata": {
        "id": "bRWMmZUKIi8B"
      },
      "source": [
        "**instalasi library Speech Recognition**"
      ]
    },
    {
      "cell_type": "code",
      "metadata": {
        "colab": {
          "base_uri": "https://localhost:8080/"
        },
        "id": "NmE2aL3rIueH",
        "outputId": "30ea5dd7-a9f4-4c2f-fee7-93d9e30b8bbc"
      },
      "source": [
        "pip install SpeechRecognition"
      ],
      "execution_count": null,
      "outputs": [
        {
          "output_type": "stream",
          "name": "stdout",
          "text": [
            "Looking in indexes: https://pypi.org/simple, https://us-python.pkg.dev/colab-wheels/public/simple/\n",
            "Collecting SpeechRecognition\n",
            "  Downloading SpeechRecognition-3.8.1-py2.py3-none-any.whl (32.8 MB)\n",
            "\u001b[K     |████████████████████████████████| 32.8 MB 1.3 MB/s \n",
            "\u001b[?25hInstalling collected packages: SpeechRecognition\n",
            "Successfully installed SpeechRecognition-3.8.1\n"
          ]
        }
      ]
    },
    {
      "cell_type": "code",
      "metadata": {
        "colab": {
          "base_uri": "https://localhost:8080/"
        },
        "id": "ide2OSGuzftR",
        "outputId": "8dd495e9-3c98-420e-8fbb-2a47b7ca5afb"
      },
      "source": [
        "import speech_recognition as sr\n",
        "r = sr.Recognizer()\n",
        "print('Speech Recognition: {}'.format(sr.__version__))"
      ],
      "execution_count": null,
      "outputs": [
        {
          "output_type": "stream",
          "name": "stdout",
          "text": [
            "Speech Recognition: 3.8.1\n"
          ]
        }
      ]
    },
    {
      "cell_type": "markdown",
      "metadata": {
        "id": "Mw_iX56p41ac"
      },
      "source": [
        "**Mengubah suara bahasa inggris ke teks  menggunakan python**"
      ]
    },
    {
      "cell_type": "code",
      "metadata": {
        "colab": {
          "base_uri": "https://localhost:8080/",
          "height": 70
        },
        "id": "27xnRq4z413s",
        "outputId": "f5a831b9-5476-4153-88e7-157c3794cbdf"
      },
      "source": [
        "import speech_recognition as sr\n",
        "from google.colab import drive \n",
        "\n",
        "drive.mount('/content/gdrive')\n",
        "speak = sr.AudioFile('gdrive/My Drive/DataSet/harvard.wav')\n",
        "with speak as source:\n",
        "  audio = r.record(source)\n",
        "r.recognize_google(audio)"
      ],
      "execution_count": null,
      "outputs": [
        {
          "output_type": "stream",
          "name": "stdout",
          "text": [
            "Mounted at /content/gdrive\n"
          ]
        },
        {
          "output_type": "execute_result",
          "data": {
            "text/plain": [
              "'the stale smell of old beer lingers it takes heat to bring out the odor a cold dip restores health and zest a salt pickle taste fine with ham tacos al Pastore are my favorite acceptable food is be hot cross bun'"
            ],
            "application/vnd.google.colaboratory.intrinsic+json": {
              "type": "string"
            }
          },
          "metadata": {},
          "execution_count": 3
        }
      ]
    },
    {
      "cell_type": "markdown",
      "metadata": {
        "id": "k5FOzKG5XWde"
      },
      "source": [
        "**Filter suara hanya pada 4 detik pertama saja**"
      ]
    },
    {
      "cell_type": "code",
      "metadata": {
        "colab": {
          "base_uri": "https://localhost:8080/",
          "height": 54
        },
        "id": "ABXCcS0MXXF4",
        "outputId": "e393a2d9-1a0e-4503-9df5-f98f4fa97a1f"
      },
      "source": [
        "import speech_recognition as sr\n",
        "from google.colab import drive \n",
        "\n",
        "drive.mount('/content/gdrive')\n",
        "speak = sr.AudioFile('gdrive/My Drive/DataSet/harvard.wav')\n",
        "with speak as source:\n",
        "  audio = r.record(source, duration=4)\n",
        "r.recognize_google(audio)"
      ],
      "execution_count": null,
      "outputs": [
        {
          "output_type": "stream",
          "name": "stdout",
          "text": [
            "Drive already mounted at /content/gdrive; to attempt to forcibly remount, call drive.mount(\"/content/gdrive\", force_remount=True).\n"
          ]
        },
        {
          "output_type": "execute_result",
          "data": {
            "application/vnd.google.colaboratory.intrinsic+json": {
              "type": "string"
            },
            "text/plain": [
              "'the stale smell of old beer lingers'"
            ]
          },
          "metadata": {},
          "execution_count": 16
        }
      ]
    },
    {
      "cell_type": "markdown",
      "metadata": {
        "id": "epmAGNjwbQ4g"
      },
      "source": [
        "**Filter suara 2 selama 4 detik pertama dan 4 detik lagi setelah yang pertama**"
      ]
    },
    {
      "cell_type": "code",
      "metadata": {
        "colab": {
          "base_uri": "https://localhost:8080/",
          "height": 54
        },
        "id": "B9stJv3TbRK1",
        "outputId": "8c472b2e-0920-4edf-e82c-c968fb2cd740"
      },
      "source": [
        "import speech_recognition as sr\n",
        "from google.colab import drive \n",
        "\n",
        "drive.mount('/content/gdrive')\n",
        "speak = sr.AudioFile('gdrive/My Drive/DataSet/harvard.wav')\n",
        "with speak as source:\n",
        "  audio1 = r.record(source, duration=4)\n",
        "  audio2 = r.record(source, duration=4)\n",
        "r.recognize_google(audio1)\n",
        "r.recognize_google(audio2)"
      ],
      "execution_count": null,
      "outputs": [
        {
          "output_type": "stream",
          "name": "stdout",
          "text": [
            "Drive already mounted at /content/gdrive; to attempt to forcibly remount, call drive.mount(\"/content/gdrive\", force_remount=True).\n"
          ]
        },
        {
          "output_type": "execute_result",
          "data": {
            "application/vnd.google.colaboratory.intrinsic+json": {
              "type": "string"
            },
            "text/plain": [
              "'it takes heat to bring out the odor a cold dip'"
            ]
          },
          "metadata": {},
          "execution_count": 18
        }
      ]
    },
    {
      "cell_type": "markdown",
      "metadata": {
        "id": "_71iboR4dg-z"
      },
      "source": [
        "**Filter suara selama 3 detik setelah 4 detik pertama**"
      ]
    },
    {
      "cell_type": "code",
      "metadata": {
        "id": "LCKRdIQtdhiu",
        "colab": {
          "base_uri": "https://localhost:8080/",
          "height": 52
        },
        "outputId": "2798b481-b048-4fc3-9f5f-1333ff6db615"
      },
      "source": [
        "import speech_recognition as sr\n",
        "from google.colab import drive \n",
        "\n",
        "drive.mount('/content/gdrive')\n",
        "speak = sr.AudioFile('gdrive/My Drive/DataSet/harvard.wav')\n",
        "with speak as source:\n",
        "  audio = r.record(source, offset=4, duration=3)\n",
        "r.recognize_google(audio)"
      ],
      "execution_count": null,
      "outputs": [
        {
          "output_type": "stream",
          "name": "stdout",
          "text": [
            "Drive already mounted at /content/gdrive; to attempt to forcibly remount, call drive.mount(\"/content/gdrive\", force_remount=True).\n"
          ]
        },
        {
          "output_type": "execute_result",
          "data": {
            "application/vnd.google.colaboratory.intrinsic+json": {
              "type": "string"
            },
            "text/plain": [
              "'it takes heat to bring out the odor'"
            ]
          },
          "metadata": {},
          "execution_count": 44
        }
      ]
    },
    {
      "cell_type": "markdown",
      "metadata": {
        "id": "ohocc68ogD67"
      },
      "source": [
        "**Filter suara selama 2,8 detik setelah 4,2 detik pertama**"
      ]
    },
    {
      "cell_type": "code",
      "metadata": {
        "colab": {
          "base_uri": "https://localhost:8080/",
          "height": 52
        },
        "id": "odoisOh0gEMj",
        "outputId": "72c30b28-8da1-4633-ceba-476b8725afca"
      },
      "source": [
        "import speech_recognition as sr\n",
        "from google.colab import drive \n",
        "\n",
        "drive.mount('/content/gdrive')\n",
        "speak = sr.AudioFile('gdrive/My Drive/DataSet/harvard.wav')\n",
        "with speak as source:\n",
        "  audio = r.record(source, offset=4.2, duration=2.8)\n",
        "r.recognize_google(audio)"
      ],
      "execution_count": null,
      "outputs": [
        {
          "output_type": "stream",
          "name": "stdout",
          "text": [
            "Drive already mounted at /content/gdrive; to attempt to forcibly remount, call drive.mount(\"/content/gdrive\", force_remount=True).\n"
          ]
        },
        {
          "output_type": "execute_result",
          "data": {
            "application/vnd.google.colaboratory.intrinsic+json": {
              "type": "string"
            },
            "text/plain": [
              "'it takes heat to bring out the odor'"
            ]
          },
          "metadata": {},
          "execution_count": 46
        }
      ]
    },
    {
      "cell_type": "markdown",
      "metadata": {
        "id": "-iUV3taThN4a"
      },
      "source": [
        "**Mengubah suara bahasa inggris dengan noise ke teks menggunakan python**"
      ]
    },
    {
      "cell_type": "code",
      "metadata": {
        "colab": {
          "base_uri": "https://localhost:8080/",
          "height": 52
        },
        "id": "3b61zsH8hOTT",
        "outputId": "87d8f975-ee0f-4d84-ff72-f63e9b097e47"
      },
      "source": [
        "import speech_recognition as sr\n",
        "from google.colab import drive \n",
        "\n",
        "drive.mount('/content/gdrive')\n",
        "speak = sr.AudioFile('gdrive/My Drive/DataSet/jackhammer.wav')\n",
        "with speak as source:\n",
        "  audio = r.record(source)\n",
        "r.recognize_google(audio)"
      ],
      "execution_count": null,
      "outputs": [
        {
          "output_type": "stream",
          "name": "stdout",
          "text": [
            "Drive already mounted at /content/gdrive; to attempt to forcibly remount, call drive.mount(\"/content/gdrive\", force_remount=True).\n"
          ]
        },
        {
          "output_type": "execute_result",
          "data": {
            "application/vnd.google.colaboratory.intrinsic+json": {
              "type": "string"
            },
            "text/plain": [
              "'the snail smelly old beermongers'"
            ]
          },
          "metadata": {},
          "execution_count": 48
        }
      ]
    },
    {
      "cell_type": "markdown",
      "metadata": {
        "id": "Nxqmi4JdiM3n"
      },
      "source": [
        "**Menghilangkan noise suara dan merubah ke teks menggunakn python**"
      ]
    },
    {
      "cell_type": "code",
      "metadata": {
        "colab": {
          "base_uri": "https://localhost:8080/",
          "height": 52
        },
        "id": "fHle3OGriNHW",
        "outputId": "4880884e-eced-4b87-8879-e254d70a2d12"
      },
      "source": [
        "import speech_recognition as sr\n",
        "from google.colab import drive \n",
        "\n",
        "drive.mount('/content/gdrive')\n",
        "speak = sr.AudioFile('gdrive/My Drive/DataSet/jackhammer.wav')\n",
        "with speak as source:\n",
        "  r.adjust_for_ambient_noise(source)\n",
        "  audio = r.record(source)\n",
        "r.recognize_google(audio)"
      ],
      "execution_count": null,
      "outputs": [
        {
          "output_type": "stream",
          "name": "stdout",
          "text": [
            "Drive already mounted at /content/gdrive; to attempt to forcibly remount, call drive.mount(\"/content/gdrive\", force_remount=True).\n"
          ]
        },
        {
          "output_type": "execute_result",
          "data": {
            "application/vnd.google.colaboratory.intrinsic+json": {
              "type": "string"
            },
            "text/plain": [
              "'Bill smelly old beermongers'"
            ]
          },
          "metadata": {},
          "execution_count": 49
        }
      ]
    },
    {
      "cell_type": "markdown",
      "metadata": {
        "id": "jgO3sEkcjpgQ"
      },
      "source": [
        "**Mengurangi 0,5 noise suara perframe dan merubah ke teks menggunakn python**"
      ]
    },
    {
      "cell_type": "code",
      "metadata": {
        "colab": {
          "base_uri": "https://localhost:8080/",
          "height": 52
        },
        "id": "LvqM5g2fjpxy",
        "outputId": "aab8476a-05c7-406a-8783-1d30ffd57b4b"
      },
      "source": [
        "import speech_recognition as sr\n",
        "from google.colab import drive \n",
        "\n",
        "drive.mount('/content/gdrive')\n",
        "speak = sr.AudioFile('gdrive/My Drive/DataSet/jackhammer.wav')\n",
        "with speak as source:\n",
        "  r.adjust_for_ambient_noise(source, duration=0.5)\n",
        "  audio = r.record(source)\n",
        "r.recognize_google(audio)"
      ],
      "execution_count": null,
      "outputs": [
        {
          "output_type": "stream",
          "name": "stdout",
          "text": [
            "Drive already mounted at /content/gdrive; to attempt to forcibly remount, call drive.mount(\"/content/gdrive\", force_remount=True).\n"
          ]
        },
        {
          "output_type": "execute_result",
          "data": {
            "application/vnd.google.colaboratory.intrinsic+json": {
              "type": "string"
            },
            "text/plain": [
              "'the stale smell of old gear vendors'"
            ]
          },
          "metadata": {},
          "execution_count": 50
        }
      ]
    },
    {
      "cell_type": "markdown",
      "metadata": {
        "id": "fcFhFOQElEOW"
      },
      "source": [
        "**Membuka kata alternatif yang di rekomendasikan oleh google**"
      ]
    },
    {
      "cell_type": "code",
      "metadata": {
        "colab": {
          "base_uri": "https://localhost:8080/"
        },
        "id": "LobwMOgNlEfb",
        "outputId": "57f6a66b-b56e-475d-b050-b0a9d3686ff3"
      },
      "source": [
        "import speech_recognition as sr\n",
        "from google.colab import drive \n",
        "\n",
        "drive.mount('/content/gdrive')\n",
        "speak = sr.AudioFile('gdrive/My Drive/DataSet/jackhammer.wav')\n",
        "with speak as source:\n",
        "  audio = r.record(source)\n",
        "r.recognize_google(audio, show_all=True)"
      ],
      "execution_count": null,
      "outputs": [
        {
          "output_type": "stream",
          "name": "stdout",
          "text": [
            "Drive already mounted at /content/gdrive; to attempt to forcibly remount, call drive.mount(\"/content/gdrive\", force_remount=True).\n"
          ]
        },
        {
          "output_type": "execute_result",
          "data": {
            "text/plain": [
              "{'alternative': [{'confidence': 0.61286533,\n",
              "   'transcript': 'the snail smelly old beermongers'},\n",
              "  {'transcript': 'the snail smelly old gear vendors'},\n",
              "  {'transcript': 'the snail smelling old gear vendors'},\n",
              "  {'transcript': 'Bastille smelly old beermongers'},\n",
              "  {'transcript': 'Bastille smelly old gear vendors'}],\n",
              " 'final': True}"
            ]
          },
          "metadata": {},
          "execution_count": 51
        }
      ]
    },
    {
      "cell_type": "markdown",
      "metadata": {
        "id": "2cqBIjIM0I6e"
      },
      "source": [
        "**Install library gTTS**"
      ]
    },
    {
      "cell_type": "code",
      "metadata": {
        "colab": {
          "base_uri": "https://localhost:8080/"
        },
        "id": "ioIyuFDy0PYA",
        "outputId": "465c3b3d-9a6f-4326-9a76-c207e4f6a36e"
      },
      "source": [
        "!pip install gTTS"
      ],
      "execution_count": null,
      "outputs": [
        {
          "output_type": "stream",
          "name": "stdout",
          "text": [
            "Requirement already satisfied: gTTS in /usr/local/lib/python3.7/dist-packages (2.2.3)\n",
            "Requirement already satisfied: requests in /usr/local/lib/python3.7/dist-packages (from gTTS) (2.23.0)\n",
            "Requirement already satisfied: six in /usr/local/lib/python3.7/dist-packages (from gTTS) (1.15.0)\n",
            "Requirement already satisfied: click in /usr/local/lib/python3.7/dist-packages (from gTTS) (7.1.2)\n",
            "Requirement already satisfied: certifi>=2017.4.17 in /usr/local/lib/python3.7/dist-packages (from requests->gTTS) (2021.10.8)\n",
            "Requirement already satisfied: urllib3!=1.25.0,!=1.25.1,<1.26,>=1.21.1 in /usr/local/lib/python3.7/dist-packages (from requests->gTTS) (1.24.3)\n",
            "Requirement already satisfied: chardet<4,>=3.0.2 in /usr/local/lib/python3.7/dist-packages (from requests->gTTS) (3.0.4)\n",
            "Requirement already satisfied: idna<3,>=2.5 in /usr/local/lib/python3.7/dist-packages (from requests->gTTS) (2.10)\n"
          ]
        }
      ]
    },
    {
      "cell_type": "markdown",
      "metadata": {
        "id": "JRN76isDMJi_"
      },
      "source": [
        "Speach google translate library **gTTS**"
      ]
    },
    {
      "cell_type": "code",
      "metadata": {
        "colab": {
          "base_uri": "https://localhost:8080/",
          "height": 61
        },
        "id": "XTb8lDuzMQo2",
        "outputId": "21ec63dd-7b66-49a6-cbc6-f0126b0b85dc"
      },
      "source": [
        "from gtts import gTTS\n",
        "from IPython.display import Audio\n",
        "tts = gTTS('akin alike analogous cognate comparable connate correspondent corresponding')\n",
        "tts.save('rap.wav')\n",
        "sound_file = 'rap.wav'\n",
        "Audio(sound_file, autoplay=True)"
      ],
      "execution_count": null,
      "outputs": [
        {
          "output_type": "execute_result",
          "data": {
            "text/html": [
              "\n",
              "                <audio controls=\"controls\" autoplay=\"autoplay\">\n",
              "                    <source src=\"data:audio/x-wav;base64,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\" type=\"audio/x-wav\" />\n",
              "                    Your browser does not support the audio element.\n",
              "                </audio>\n",
              "              "
            ],
            "text/plain": [
              "<IPython.lib.display.Audio object>"
            ]
          },
          "metadata": {},
          "execution_count": 12
        }
      ]
    }
  ]
}